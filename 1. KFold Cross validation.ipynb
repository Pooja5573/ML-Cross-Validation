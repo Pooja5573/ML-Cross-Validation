{
 "cells": [
  {
   "cell_type": "code",
   "execution_count": 1,
   "id": "fc50fe81",
   "metadata": {},
   "outputs": [],
   "source": [
    "import numpy as np\n",
    "import pandas as pd"
   ]
  },
  {
   "cell_type": "code",
   "execution_count": 2,
   "id": "081d9434",
   "metadata": {},
   "outputs": [],
   "source": [
    "from sklearn.model_selection import KFold"
   ]
  },
  {
   "cell_type": "code",
   "execution_count": 4,
   "id": "bc684751",
   "metadata": {},
   "outputs": [
    {
     "data": {
      "text/plain": [
       "array([0.1, 0.2, 0.3, 0.4, 0.5, 0.6, 0.7, 0.8, 0.9])"
      ]
     },
     "execution_count": 4,
     "metadata": {},
     "output_type": "execute_result"
    }
   ],
   "source": [
    "data = np.arange(0.1,1,0.1)\n",
    "data"
   ]
  },
  {
   "cell_type": "code",
   "execution_count": 5,
   "id": "baba4acd",
   "metadata": {},
   "outputs": [],
   "source": [
    "kf = KFold(n_splits=5)"
   ]
  },
  {
   "cell_type": "code",
   "execution_count": 29,
   "id": "4625738d",
   "metadata": {},
   "outputs": [],
   "source": [
    "kfdata = kf.split(data)"
   ]
  },
  {
   "cell_type": "code",
   "execution_count": 30,
   "id": "3ae618fd",
   "metadata": {},
   "outputs": [
    {
     "data": {
      "text/plain": [
       "<generator object _BaseKFold.split at 0x00000205BA1FE740>"
      ]
     },
     "execution_count": 30,
     "metadata": {},
     "output_type": "execute_result"
    }
   ],
   "source": [
    "kfdata"
   ]
  },
  {
   "cell_type": "code",
   "execution_count": 31,
   "id": "a2dd5698",
   "metadata": {},
   "outputs": [
    {
     "name": "stdout",
     "output_type": "stream",
     "text": [
      "Train data :  [2 3 4 5 6 7 8]\n",
      "Test data :  [0 1]\n",
      "*******************\n",
      "Train data :  [0 1 4 5 6 7 8]\n",
      "Test data :  [2 3]\n",
      "*******************\n",
      "Train data :  [0 1 2 3 6 7 8]\n",
      "Test data :  [4 5]\n",
      "*******************\n",
      "Train data :  [0 1 2 3 4 5 8]\n",
      "Test data :  [6 7]\n",
      "*******************\n",
      "Train data :  [0 1 2 3 4 5 6 7]\n",
      "Test data :  [8]\n",
      "*******************\n"
     ]
    }
   ],
   "source": [
    "for i,j in kfdata:\n",
    "    print(\"Train data : \",i)\n",
    "    print(\"Test data : \", j)\n",
    "    print(\"*******************\")"
   ]
  },
  {
   "cell_type": "code",
   "execution_count": null,
   "id": "7e64be4a",
   "metadata": {},
   "outputs": [],
   "source": []
  },
  {
   "cell_type": "code",
   "execution_count": null,
   "id": "83462229",
   "metadata": {},
   "outputs": [],
   "source": []
  },
  {
   "cell_type": "code",
   "execution_count": null,
   "id": "db850ede",
   "metadata": {},
   "outputs": [],
   "source": []
  }
 ],
 "metadata": {
  "kernelspec": {
   "display_name": "Python 3",
   "language": "python",
   "name": "python3"
  },
  "language_info": {
   "codemirror_mode": {
    "name": "ipython",
    "version": 3
   },
   "file_extension": ".py",
   "mimetype": "text/x-python",
   "name": "python",
   "nbconvert_exporter": "python",
   "pygments_lexer": "ipython3",
   "version": "3.8.8"
  }
 },
 "nbformat": 4,
 "nbformat_minor": 5
}
